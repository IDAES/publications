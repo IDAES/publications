{
 "cells": [
  {
   "cell_type": "markdown",
   "id": "a15e2448-2863-4974-99e5-cb2de386986b",
   "metadata": {},
   "source": [
    "# LMP Point-by-Point Optimization\n",
    "\n",
    "The notebook optimizes the production or hydrogen and/or power for a given LMP for electricity point by point for a set of LMPs.  The results can be used to determine the optimal profit and operating schedule assuming there are no constraints linking one time point to another such as ramping limits or startup and shutdown considerations.\n",
    "\n",
    "This notebook just does the optimization and stores the results. A companion notebook provides analysis. "
   ]
  },
  {
   "cell_type": "code",
   "execution_count": 1,
   "id": "e189df5d-597e-469c-986a-53bd0f9645de",
   "metadata": {},
   "outputs": [],
   "source": [
    "import os\n",
    "\n",
    "from util.surrogate import SurrogateProcessModels\n",
    "from util.data import get_model_data, DataObject\n",
    "import pyomo.environ as pyo\n",
    "import pandas as pd"
   ]
  },
  {
   "cell_type": "code",
   "execution_count": 2,
   "id": "f1b070a5-32e5-4eee-b66c-8c95d3a1964a",
   "metadata": {},
   "outputs": [],
   "source": [
    "data = DataObject()\n",
    "surrogate = SurrogateProcessModels()\n",
    "surrogate.generate_surrogate_models()"
   ]
  },
  {
   "cell_type": "code",
   "execution_count": 3,
   "id": "64c0299d-8448-49a4-aa1b-32b9ccd21a1c",
   "metadata": {},
   "outputs": [],
   "source": [
    "solver_obj = pyo.SolverFactory(\"ipopt\")"
   ]
  },
  {
   "cell_type": "code",
   "execution_count": 4,
   "id": "0db2bb5e-77d6-4391-b3f7-06dc54615d2d",
   "metadata": {},
   "outputs": [],
   "source": [
    "def get_dataframe():\n",
    "    return pd.DataFrame(\n",
    "        columns=[\n",
    "            \"lmp ($/MWh)\",\n",
    "            \"profit ($/hr)\",\n",
    "            \"net_power (MW)\",\n",
    "            \"h_prod (kg/s)\",\n",
    "            \"ng_price ($/million BTU)\",\n",
    "            \"h2_price ($/kg)\",\n",
    "            \"el_revenue ($/hr)\",\n",
    "            \"el_cost ($/hr)\",\n",
    "            \"ng_cost ($/hr)\",\n",
    "            \"h2_revenue ($/hr)\",\n",
    "            \"other_cost ($/hr)\",\n",
    "            \"fixed_cost ($/hr)\",\n",
    "            \"mode_power_only\",\n",
    "            \"mode_hydrogen_only\",\n",
    "            \"mode_hydrogen\",\n",
    "            \"mode_off\",\n",
    "        ]\n",
    "    )\n",
    "    \n",
    "def add_data_row(*args, df, el_price, ng_price, h2_price, off):\n",
    "    models = list(sorted(args, key=lambda x : pyo.value(x.profit), reverse=True))\n",
    "    m = models[0]\n",
    "    idx = len(df.index)    \n",
    "    df.loc[idx, \"lmp ($/MWh)\"] = el_price\n",
    "    df.loc[idx, \"ng_price ($/million BTU)\"] = ng_price\n",
    "    df.loc[idx, \"h2_price ($/kg)\"] = h2_price\n",
    "    df.loc[idx, \"mode_power_only\"] = 0\n",
    "    df.loc[idx, \"mode_hydrogen_only\"] = 0 \n",
    "    df.loc[idx, \"mode_hydrogen\"] = 0\n",
    "    df.loc[idx, \"mode_off\"] = 0\n",
    "    \n",
    "    if off is not None and off >= pyo.value(m.profit):\n",
    "        # the mode is off\n",
    "        df.loc[idx, \"mode_off\"] = 1\n",
    "        df.loc[idx, \"h_prod (kg/s)\"] = 0\n",
    "        df.loc[idx, \"net_power (MW)\"] = 0\n",
    "        df.loc[idx, \"el_revenue ($/hr)\"] = 0\n",
    "        df.loc[idx, \"el_cost ($/hr)\"] = 0\n",
    "        df.loc[idx, \"ng_cost ($/hr)\"] = 0\n",
    "        df.loc[idx, \"h2_revenue ($/hr)\"] = 0\n",
    "        df.loc[idx, \"profit ($/hr)\"] = off\n",
    "        df.loc[idx, \"other_cost ($/hr)\"] = 0\n",
    "        df.loc[idx, \"fixed_cost ($/hr)\"] = -off\n",
    "    else:\n",
    "        df.loc[idx, \"profit ($/hr)\"] = pyo.value(m.profit)\n",
    "        df.loc[idx, \"other_cost ($/hr)\"] = pyo.value(m.other_cost)\n",
    "        df.loc[idx, \"fixed_cost ($/hr)\"] = pyo.value(m.fixed_costs)\n",
    "        # the mode is some model\n",
    "        if hasattr(m, \"net_power\") and hasattr(m, \"h_prod\"):\n",
    "            # hydrogen and power\n",
    "            df.loc[idx, \"mode_hydrogen\"] = 1\n",
    "            df.loc[idx, \"net_power (MW)\"] = pyo.value(m.net_power)\n",
    "            df.loc[idx, \"h_prod (kg/s)\"] = pyo.value(m.h_prod)\n",
    "            df.loc[idx, \"el_revenue ($/hr)\"] = pyo.value(m.net_power*m.el_price)\n",
    "            df.loc[idx, \"el_cost ($/hr)\"] = pyo.value(-m.net_power*m.el_price)\n",
    "            df.loc[idx, \"h2_revenue ($/hr)\"] = pyo.value(m.h_prod*m.h2_price)\n",
    "            df.loc[idx, \"ng_cost ($/hr)\"] = pyo.value(m.fuel_cost)\n",
    "        elif hasattr(m, \"net_power\"):\n",
    "            # power only\n",
    "            df.loc[idx, \"mode_power_only\"] = 1\n",
    "            df.loc[idx, \"net_power (MW)\"] = pyo.value(m.net_power)\n",
    "            df.loc[idx, \"h_prod (kg/s)\"] = 0\n",
    "            df.loc[idx, \"el_revenue ($/hr)\"] = pyo.value(m.net_power*m.el_price)\n",
    "            df.loc[idx, \"el_cost ($/hr)\"] = pyo.value(-m.net_power*m.el_price)\n",
    "            df.loc[idx, \"h2_revenue ($/hr)\"] = 0\n",
    "            df.loc[idx, \"ng_cost ($/hr)\"] = pyo.value(m.fuel_cost)\n",
    "        elif hasattr(m, \"h_prod\"):\n",
    "            # hydrogen only\n",
    "            df.loc[idx, \"fixed_cost ($/hr)\"] = off\n",
    "            df.loc[idx, \"mode_hydrogen_only\"] = 1\n",
    "            df.loc[idx, \"net_power (MW)\"] = pyo.value(-m.electricity_cost/30.0)\n",
    "            df.loc[idx, \"h_prod (kg/s)\"] = pyo.value(m.h_prod)\n",
    "            df.loc[idx, \"el_revenue ($/hr)\"] = pyo.value(-m.electricity_cost/30.0*m.el_price)\n",
    "            df.loc[idx, \"el_cost ($/hr)\"] = pyo.value(m.electricity_cost/30.0*m.el_price)\n",
    "            df.loc[idx, \"h2_revenue ($/hr)\"] = pyo.value(m.h_prod*m.h2_price)\n",
    "            df.loc[idx, \"ng_cost ($/hr)\"] = pyo.value(m.fuel_cost)"
   ]
  },
  {
   "cell_type": "code",
   "execution_count": 5,
   "id": "288c9e2d-7516-4092-8cd9-6b6acaa485f3",
   "metadata": {},
   "outputs": [],
   "source": [
    "result_dir = \"../lmp_point_by_point\"\n",
    "if not os.path.exists(result_dir):\n",
    "    os.mkdir(result_dir)"
   ]
  },
  {
   "cell_type": "code",
   "execution_count": 6,
   "id": "5dacd075-18a7-4864-9e6a-8d6a3cafdd0c",
   "metadata": {},
   "outputs": [],
   "source": [
    "h2_price = 2.0\n",
    "groups = [\"historical\", \"nrel\", \"o3\"]"
   ]
  },
  {
   "cell_type": "markdown",
   "id": "6891e696-fe9c-4202-82d3-17dd0f959ac6",
   "metadata": {},
   "source": [
    "### Case 0 -- NGCC"
   ]
  },
  {
   "cell_type": "code",
   "execution_count": 7,
   "id": "5400e354-afc3-4b8b-b474-11ab5e976342",
   "metadata": {},
   "outputs": [],
   "source": [
    "model = \"model0\"\n",
    "\n",
    "for data_set in data.metadata:\n",
    "    if data.metadata[data_set][\"group\"] not in groups:\n",
    "        continue\n",
    "    lmps = data.data[data_set].dropna()\n",
    "    ng_price = data.metadata[data_set][\"ng_price\"]\n",
    "    result_file = os.path.join(result_dir, f\"{data_set}_{model}.csv\")\n",
    "    m = surrogate.single_point_model(model, \"power_only\", ng_price=ng_price)\n",
    "    m.ng_price.fix(ng_price)\n",
    "    df = get_dataframe()\n",
    "    for el_price in lmps:\n",
    "        m.el_price.fix(el_price)\n",
    "        res = solver_obj.solve(m)\n",
    "\n",
    "        add_data_row(\n",
    "            m, \n",
    "            df=df, \n",
    "            el_price=el_price, \n",
    "            ng_price=ng_price, \n",
    "            h2_price=h2_price,\n",
    "            off=pyo.value(-m.fixed_costs)\n",
    "        )\n",
    "    df.to_csv(result_file)"
   ]
  },
  {
   "cell_type": "markdown",
   "id": "4a84b95a-1f11-411c-9a1c-538ea5df3fe3",
   "metadata": {},
   "source": [
    "### Case 1 -- SOFC"
   ]
  },
  {
   "cell_type": "code",
   "execution_count": 8,
   "id": "2ddaf063-fa9e-4046-af08-9b1854682786",
   "metadata": {},
   "outputs": [],
   "source": [
    "model = \"model1\"\n",
    "\n",
    "for data_set in data.metadata:\n",
    "    if data.metadata[data_set][\"group\"] not in groups:\n",
    "        continue\n",
    "    lmps = data.data[data_set].dropna()\n",
    "    ng_price = data.metadata[data_set][\"ng_price\"]\n",
    "    result_file = os.path.join(result_dir, f\"{data_set}_{model}.csv\")\n",
    "    m = surrogate.single_point_model(model, \"power_only\", ng_price=ng_price)\n",
    "    m.ng_price.fix(ng_price)\n",
    "    df = get_dataframe()\n",
    "    for el_price in lmps:\n",
    "        m.el_price.fix(el_price)\n",
    "        res = solver_obj.solve(m)\n",
    "\n",
    "        add_data_row(\n",
    "            m, \n",
    "            df=df, \n",
    "            el_price=el_price, \n",
    "            ng_price=ng_price, \n",
    "            h2_price=h2_price,\n",
    "            off=pyo.value(-m.fixed_costs)\n",
    "        )\n",
    "    df.to_csv(result_file)"
   ]
  },
  {
   "cell_type": "markdown",
   "id": "c0a63b38-1476-47fc-8f31-16181a01f07b",
   "metadata": {},
   "source": [
    "### Case 3 NGCC+SOEC"
   ]
  },
  {
   "cell_type": "code",
   "execution_count": 9,
   "id": "07ef3bba-9175-435a-81ba-ceb1d1e742cc",
   "metadata": {},
   "outputs": [],
   "source": [
    "model = \"model3\"\n",
    "\n",
    "for data_set in data.metadata:\n",
    "    if data.metadata[data_set][\"group\"] not in groups:\n",
    "        continue\n",
    "    lmps = data.data[data_set].dropna()\n",
    "    ng_price = data.metadata[data_set][\"ng_price\"]\n",
    "    result_file = os.path.join(result_dir, f\"{data_set}_{model}.csv\")\n",
    "    m = surrogate.single_point_model(model, \"power_only\", ng_price=ng_price)\n",
    "    m2 = surrogate.single_point_model(model, \"hydrogen\", ng_price=ng_price)\n",
    "    m.ng_price.fix(ng_price)\n",
    "    m2.ng_price.fix(ng_price)\n",
    "    m2.h2_price.fix(h2_price)\n",
    "    df = get_dataframe()\n",
    "    for el_price in lmps:\n",
    "        m.el_price.fix(el_price)\n",
    "        m2.el_price.fix(el_price)\n",
    "        res = solver_obj.solve(m)\n",
    "        res2 = solver_obj.solve(m2)\n",
    "        add_data_row(\n",
    "            m,\n",
    "            m2,\n",
    "            df=df, \n",
    "            el_price=el_price, \n",
    "            ng_price=ng_price, \n",
    "            h2_price=h2_price,\n",
    "            off=pyo.value(-m.fixed_costs)\n",
    "        )\n",
    "    df.to_csv(result_file)"
   ]
  },
  {
   "cell_type": "markdown",
   "id": "9de17f29-c5f7-4da5-8954-736801c7417b",
   "metadata": {},
   "source": [
    "### Case 4 -- RSOC"
   ]
  },
  {
   "cell_type": "code",
   "execution_count": 10,
   "id": "3e97f25a-8089-4438-baba-b4976d4906c2",
   "metadata": {},
   "outputs": [],
   "source": [
    "model = \"model4\"\n",
    "\n",
    "for data_set in data.metadata:\n",
    "    if data.metadata[data_set][\"group\"] not in groups:\n",
    "        continue\n",
    "    lmps = data.data[data_set].dropna()\n",
    "    ng_price = data.metadata[data_set][\"ng_price\"]\n",
    "    result_file = os.path.join(result_dir, f\"{data_set}_{model}.csv\")\n",
    "    m = surrogate.single_point_model(model, \"power_only\", ng_price=ng_price)\n",
    "    m2 = surrogate.single_point_model(model, \"hydrogen_only\", ng_price=ng_price)\n",
    "    m.ng_price.fix(ng_price)\n",
    "    m2.ng_price.fix(ng_price)\n",
    "    m2.h2_price.fix(h2_price)\n",
    "    df = get_dataframe()\n",
    "    for el_price in lmps:\n",
    "        m.el_price.fix(el_price)\n",
    "        m2.el_price.fix(el_price)\n",
    "        res = solver_obj.solve(m)\n",
    "        res2 = solver_obj.solve(m2)\n",
    "        add_data_row(\n",
    "            m,\n",
    "            m2,\n",
    "            df=df, \n",
    "            el_price=el_price, \n",
    "            ng_price=ng_price, \n",
    "            h2_price=h2_price,\n",
    "            off=pyo.value(-m.fixed_costs)\n",
    "        )\n",
    "    df.to_csv(result_file)"
   ]
  },
  {
   "cell_type": "markdown",
   "id": "01218fd4-77b5-4375-9778-c19c5ce8d739",
   "metadata": {},
   "source": [
    "### Case 5 SOFC+SOEC"
   ]
  },
  {
   "cell_type": "code",
   "execution_count": 11,
   "id": "b98ab717-1e4b-4e48-aa97-133674035028",
   "metadata": {},
   "outputs": [
    {
     "ename": "KeyboardInterrupt",
     "evalue": "",
     "output_type": "error",
     "traceback": [
      "\u001b[0;31m---------------------------------------------------------------------------\u001b[0m",
      "\u001b[0;31mKeyboardInterrupt\u001b[0m                         Traceback (most recent call last)",
      "\u001b[0;32m/var/folders/xf/4r1nvwm50_d1069gf048n6p80000gn/T/ipykernel_48908/4026370969.py\u001b[0m in \u001b[0;36m<cell line: 3>\u001b[0;34m()\u001b[0m\n\u001b[1;32m     17\u001b[0m         \u001b[0mm2\u001b[0m\u001b[0;34m.\u001b[0m\u001b[0mel_price\u001b[0m\u001b[0;34m.\u001b[0m\u001b[0mfix\u001b[0m\u001b[0;34m(\u001b[0m\u001b[0mel_price\u001b[0m\u001b[0;34m)\u001b[0m\u001b[0;34m\u001b[0m\u001b[0;34m\u001b[0m\u001b[0m\n\u001b[1;32m     18\u001b[0m         \u001b[0mres\u001b[0m \u001b[0;34m=\u001b[0m \u001b[0msolver_obj\u001b[0m\u001b[0;34m.\u001b[0m\u001b[0msolve\u001b[0m\u001b[0;34m(\u001b[0m\u001b[0mm\u001b[0m\u001b[0;34m)\u001b[0m\u001b[0;34m\u001b[0m\u001b[0;34m\u001b[0m\u001b[0m\n\u001b[0;32m---> 19\u001b[0;31m         \u001b[0mres2\u001b[0m \u001b[0;34m=\u001b[0m \u001b[0msolver_obj\u001b[0m\u001b[0;34m.\u001b[0m\u001b[0msolve\u001b[0m\u001b[0;34m(\u001b[0m\u001b[0mm2\u001b[0m\u001b[0;34m)\u001b[0m\u001b[0;34m\u001b[0m\u001b[0;34m\u001b[0m\u001b[0m\n\u001b[0m\u001b[1;32m     20\u001b[0m         add_data_row(\n\u001b[1;32m     21\u001b[0m             \u001b[0mm\u001b[0m\u001b[0;34m,\u001b[0m\u001b[0;34m\u001b[0m\u001b[0;34m\u001b[0m\u001b[0m\n",
      "\u001b[0;32m~/git/pyomo/pyomo/opt/base/solvers.py\u001b[0m in \u001b[0;36msolve\u001b[0;34m(self, *args, **kwds)\u001b[0m\n\u001b[1;32m    577\u001b[0m                 \u001b[0mself\u001b[0m\u001b[0;34m.\u001b[0m\u001b[0m_initialize_callbacks\u001b[0m\u001b[0;34m(\u001b[0m\u001b[0m_model\u001b[0m\u001b[0;34m)\u001b[0m\u001b[0;34m\u001b[0m\u001b[0;34m\u001b[0m\u001b[0m\n\u001b[1;32m    578\u001b[0m \u001b[0;34m\u001b[0m\u001b[0m\n\u001b[0;32m--> 579\u001b[0;31m             \u001b[0m_status\u001b[0m \u001b[0;34m=\u001b[0m \u001b[0mself\u001b[0m\u001b[0;34m.\u001b[0m\u001b[0m_apply_solver\u001b[0m\u001b[0;34m(\u001b[0m\u001b[0;34m)\u001b[0m\u001b[0;34m\u001b[0m\u001b[0;34m\u001b[0m\u001b[0m\n\u001b[0m\u001b[1;32m    580\u001b[0m             \u001b[0;32mif\u001b[0m \u001b[0mhasattr\u001b[0m\u001b[0;34m(\u001b[0m\u001b[0mself\u001b[0m\u001b[0;34m,\u001b[0m \u001b[0;34m'_transformation_data'\u001b[0m\u001b[0;34m)\u001b[0m\u001b[0;34m:\u001b[0m\u001b[0;34m\u001b[0m\u001b[0;34m\u001b[0m\u001b[0m\n\u001b[1;32m    581\u001b[0m                 \u001b[0;32mdel\u001b[0m \u001b[0mself\u001b[0m\u001b[0;34m.\u001b[0m\u001b[0m_transformation_data\u001b[0m\u001b[0;34m\u001b[0m\u001b[0;34m\u001b[0m\u001b[0m\n",
      "\u001b[0;32m~/git/pyomo/pyomo/opt/solver/shellcmd.py\u001b[0m in \u001b[0;36m_apply_solver\u001b[0;34m(self)\u001b[0m\n\u001b[1;32m    253\u001b[0m \u001b[0;34m\u001b[0m\u001b[0m\n\u001b[1;32m    254\u001b[0m         \u001b[0msys\u001b[0m\u001b[0;34m.\u001b[0m\u001b[0mstdout\u001b[0m\u001b[0;34m.\u001b[0m\u001b[0mflush\u001b[0m\u001b[0;34m(\u001b[0m\u001b[0;34m)\u001b[0m\u001b[0;34m\u001b[0m\u001b[0;34m\u001b[0m\u001b[0m\n\u001b[0;32m--> 255\u001b[0;31m         \u001b[0mself\u001b[0m\u001b[0;34m.\u001b[0m\u001b[0m_rc\u001b[0m\u001b[0;34m,\u001b[0m \u001b[0mself\u001b[0m\u001b[0;34m.\u001b[0m\u001b[0m_log\u001b[0m \u001b[0;34m=\u001b[0m \u001b[0mself\u001b[0m\u001b[0;34m.\u001b[0m\u001b[0m_execute_command\u001b[0m\u001b[0;34m(\u001b[0m\u001b[0mself\u001b[0m\u001b[0;34m.\u001b[0m\u001b[0m_command\u001b[0m\u001b[0;34m)\u001b[0m\u001b[0;34m\u001b[0m\u001b[0;34m\u001b[0m\u001b[0m\n\u001b[0m\u001b[1;32m    256\u001b[0m         \u001b[0msys\u001b[0m\u001b[0;34m.\u001b[0m\u001b[0mstdout\u001b[0m\u001b[0;34m.\u001b[0m\u001b[0mflush\u001b[0m\u001b[0;34m(\u001b[0m\u001b[0;34m)\u001b[0m\u001b[0;34m\u001b[0m\u001b[0;34m\u001b[0m\u001b[0m\n\u001b[1;32m    257\u001b[0m         \u001b[0;32mreturn\u001b[0m \u001b[0mBunch\u001b[0m\u001b[0;34m(\u001b[0m\u001b[0mrc\u001b[0m\u001b[0;34m=\u001b[0m\u001b[0mself\u001b[0m\u001b[0;34m.\u001b[0m\u001b[0m_rc\u001b[0m\u001b[0;34m,\u001b[0m \u001b[0mlog\u001b[0m\u001b[0;34m=\u001b[0m\u001b[0mself\u001b[0m\u001b[0;34m.\u001b[0m\u001b[0m_log\u001b[0m\u001b[0;34m)\u001b[0m\u001b[0;34m\u001b[0m\u001b[0;34m\u001b[0m\u001b[0m\n",
      "\u001b[0;32m~/git/pyomo/pyomo/opt/solver/shellcmd.py\u001b[0m in \u001b[0;36m_execute_command\u001b[0;34m(self, command)\u001b[0m\n\u001b[1;32m    340\u001b[0m             \u001b[0mmsg\u001b[0m \u001b[0;34m=\u001b[0m \u001b[0;34m'Could not execute the command: %s\\tError message: %s'\u001b[0m\u001b[0;34m\u001b[0m\u001b[0;34m\u001b[0m\u001b[0m\n\u001b[1;32m    341\u001b[0m             \u001b[0;32mraise\u001b[0m \u001b[0mApplicationError\u001b[0m\u001b[0;34m(\u001b[0m\u001b[0mmsg\u001b[0m \u001b[0;34m%\u001b[0m \u001b[0;34m(\u001b[0m\u001b[0mcommand\u001b[0m\u001b[0;34m.\u001b[0m\u001b[0mcmd\u001b[0m\u001b[0;34m,\u001b[0m \u001b[0merr\u001b[0m\u001b[0;34m)\u001b[0m\u001b[0;34m)\u001b[0m\u001b[0;34m\u001b[0m\u001b[0;34m\u001b[0m\u001b[0m\n\u001b[0;32m--> 342\u001b[0;31m         \u001b[0msys\u001b[0m\u001b[0;34m.\u001b[0m\u001b[0mstdout\u001b[0m\u001b[0;34m.\u001b[0m\u001b[0mflush\u001b[0m\u001b[0;34m(\u001b[0m\u001b[0;34m)\u001b[0m\u001b[0;34m\u001b[0m\u001b[0;34m\u001b[0m\u001b[0m\n\u001b[0m\u001b[1;32m    343\u001b[0m \u001b[0;34m\u001b[0m\u001b[0m\n\u001b[1;32m    344\u001b[0m         \u001b[0mself\u001b[0m\u001b[0;34m.\u001b[0m\u001b[0m_last_solve_time\u001b[0m \u001b[0;34m=\u001b[0m \u001b[0mtime\u001b[0m\u001b[0;34m.\u001b[0m\u001b[0mtime\u001b[0m\u001b[0;34m(\u001b[0m\u001b[0;34m)\u001b[0m \u001b[0;34m-\u001b[0m \u001b[0mstart_time\u001b[0m\u001b[0;34m\u001b[0m\u001b[0;34m\u001b[0m\u001b[0m\n",
      "\u001b[0;32m~/miniconda3/envs/idaes/lib/python3.10/site-packages/ipykernel/iostream.py\u001b[0m in \u001b[0;36mflush\u001b[0;34m(self)\u001b[0m\n\u001b[1;32m    485\u001b[0m             \u001b[0mself\u001b[0m\u001b[0;34m.\u001b[0m\u001b[0mpub_thread\u001b[0m\u001b[0;34m.\u001b[0m\u001b[0mschedule\u001b[0m\u001b[0;34m(\u001b[0m\u001b[0mevt\u001b[0m\u001b[0;34m.\u001b[0m\u001b[0mset\u001b[0m\u001b[0;34m)\u001b[0m\u001b[0;34m\u001b[0m\u001b[0;34m\u001b[0m\u001b[0m\n\u001b[1;32m    486\u001b[0m             \u001b[0;31m# and give a timeout to avoid\u001b[0m\u001b[0;34m\u001b[0m\u001b[0;34m\u001b[0m\u001b[0m\n\u001b[0;32m--> 487\u001b[0;31m             \u001b[0;32mif\u001b[0m \u001b[0;32mnot\u001b[0m \u001b[0mevt\u001b[0m\u001b[0;34m.\u001b[0m\u001b[0mwait\u001b[0m\u001b[0;34m(\u001b[0m\u001b[0mself\u001b[0m\u001b[0;34m.\u001b[0m\u001b[0mflush_timeout\u001b[0m\u001b[0;34m)\u001b[0m\u001b[0;34m:\u001b[0m\u001b[0;34m\u001b[0m\u001b[0;34m\u001b[0m\u001b[0m\n\u001b[0m\u001b[1;32m    488\u001b[0m                 \u001b[0;31m# write directly to __stderr__ instead of warning because\u001b[0m\u001b[0;34m\u001b[0m\u001b[0;34m\u001b[0m\u001b[0m\n\u001b[1;32m    489\u001b[0m                 \u001b[0;31m# if this is happening sys.stderr may be the problem.\u001b[0m\u001b[0;34m\u001b[0m\u001b[0;34m\u001b[0m\u001b[0m\n",
      "\u001b[0;32m~/miniconda3/envs/idaes/lib/python3.10/threading.py\u001b[0m in \u001b[0;36mwait\u001b[0;34m(self, timeout)\u001b[0m\n\u001b[1;32m    598\u001b[0m             \u001b[0msignaled\u001b[0m \u001b[0;34m=\u001b[0m \u001b[0mself\u001b[0m\u001b[0;34m.\u001b[0m\u001b[0m_flag\u001b[0m\u001b[0;34m\u001b[0m\u001b[0;34m\u001b[0m\u001b[0m\n\u001b[1;32m    599\u001b[0m             \u001b[0;32mif\u001b[0m \u001b[0;32mnot\u001b[0m \u001b[0msignaled\u001b[0m\u001b[0;34m:\u001b[0m\u001b[0;34m\u001b[0m\u001b[0;34m\u001b[0m\u001b[0m\n\u001b[0;32m--> 600\u001b[0;31m                 \u001b[0msignaled\u001b[0m \u001b[0;34m=\u001b[0m \u001b[0mself\u001b[0m\u001b[0;34m.\u001b[0m\u001b[0m_cond\u001b[0m\u001b[0;34m.\u001b[0m\u001b[0mwait\u001b[0m\u001b[0;34m(\u001b[0m\u001b[0mtimeout\u001b[0m\u001b[0;34m)\u001b[0m\u001b[0;34m\u001b[0m\u001b[0;34m\u001b[0m\u001b[0m\n\u001b[0m\u001b[1;32m    601\u001b[0m             \u001b[0;32mreturn\u001b[0m \u001b[0msignaled\u001b[0m\u001b[0;34m\u001b[0m\u001b[0;34m\u001b[0m\u001b[0m\n\u001b[1;32m    602\u001b[0m \u001b[0;34m\u001b[0m\u001b[0m\n",
      "\u001b[0;32m~/miniconda3/envs/idaes/lib/python3.10/threading.py\u001b[0m in \u001b[0;36mwait\u001b[0;34m(self, timeout)\u001b[0m\n\u001b[1;32m    322\u001b[0m             \u001b[0;32melse\u001b[0m\u001b[0;34m:\u001b[0m\u001b[0;34m\u001b[0m\u001b[0;34m\u001b[0m\u001b[0m\n\u001b[1;32m    323\u001b[0m                 \u001b[0;32mif\u001b[0m \u001b[0mtimeout\u001b[0m \u001b[0;34m>\u001b[0m \u001b[0;36m0\u001b[0m\u001b[0;34m:\u001b[0m\u001b[0;34m\u001b[0m\u001b[0;34m\u001b[0m\u001b[0m\n\u001b[0;32m--> 324\u001b[0;31m                     \u001b[0mgotit\u001b[0m \u001b[0;34m=\u001b[0m \u001b[0mwaiter\u001b[0m\u001b[0;34m.\u001b[0m\u001b[0macquire\u001b[0m\u001b[0;34m(\u001b[0m\u001b[0;32mTrue\u001b[0m\u001b[0;34m,\u001b[0m \u001b[0mtimeout\u001b[0m\u001b[0;34m)\u001b[0m\u001b[0;34m\u001b[0m\u001b[0;34m\u001b[0m\u001b[0m\n\u001b[0m\u001b[1;32m    325\u001b[0m                 \u001b[0;32melse\u001b[0m\u001b[0;34m:\u001b[0m\u001b[0;34m\u001b[0m\u001b[0;34m\u001b[0m\u001b[0m\n\u001b[1;32m    326\u001b[0m                     \u001b[0mgotit\u001b[0m \u001b[0;34m=\u001b[0m \u001b[0mwaiter\u001b[0m\u001b[0;34m.\u001b[0m\u001b[0macquire\u001b[0m\u001b[0;34m(\u001b[0m\u001b[0;32mFalse\u001b[0m\u001b[0;34m)\u001b[0m\u001b[0;34m\u001b[0m\u001b[0;34m\u001b[0m\u001b[0m\n",
      "\u001b[0;31mKeyboardInterrupt\u001b[0m: "
     ]
    }
   ],
   "source": [
    "model = \"model5\"\n",
    "\n",
    "for data_set in data.metadata:\n",
    "    if data.metadata[data_set][\"group\"] not in groups:\n",
    "        continue\n",
    "    lmps = data.data[data_set].dropna()\n",
    "    ng_price = data.metadata[data_set][\"ng_price\"]\n",
    "    result_file = os.path.join(result_dir, f\"{data_set}_{model}.csv\")\n",
    "    m = surrogate.single_point_model(model, \"power_only\", ng_price=ng_price)\n",
    "    m2 = surrogate.single_point_model(model, \"hydrogen\", ng_price=ng_price)\n",
    "    m.ng_price.fix(ng_price)\n",
    "    m2.ng_price.fix(ng_price)\n",
    "    m2.h2_price.fix(h2_price)\n",
    "    df = get_dataframe()\n",
    "    for el_price in lmps:\n",
    "        m.el_price.fix(el_price)\n",
    "        m2.el_price.fix(el_price)\n",
    "        res = solver_obj.solve(m)\n",
    "        res2 = solver_obj.solve(m2)\n",
    "        add_data_row(\n",
    "            m,\n",
    "            m2,\n",
    "            df=df, \n",
    "            el_price=el_price, \n",
    "            ng_price=ng_price, \n",
    "            h2_price=h2_price,\n",
    "            off=pyo.value(-m.fixed_costs)\n",
    "        )\n",
    "    df.to_csv(result_file)"
   ]
  },
  {
   "cell_type": "markdown",
   "id": "e076befd-7cc1-4978-8d2d-b82bcc9fd995",
   "metadata": {},
   "source": [
    "### Case 6 -- SOEC"
   ]
  },
  {
   "cell_type": "code",
   "execution_count": null,
   "id": "51076ba1-c7a3-4e75-afbd-8263862b1062",
   "metadata": {},
   "outputs": [],
   "source": [
    "model = \"model6\"\n",
    "\n",
    "for data_set in data.metadata:\n",
    "    if data.metadata[data_set][\"group\"] not in groups:\n",
    "        continue\n",
    "    lmps = data.data[data_set].dropna()\n",
    "    ng_price = data.metadata[data_set][\"ng_price\"]\n",
    "    result_file = os.path.join(result_dir, f\"{data_set}_{model}.csv\")\n",
    "    m = surrogate.single_point_model(model, \"hydrogen_only\", ng_price=ng_price)\n",
    "    m.ng_price.fix(ng_price)\n",
    "    m.h2_price.fix(h2_price)\n",
    "    df = get_dataframe()\n",
    "    for el_price in lmps:\n",
    "        m.el_price.fix(el_price)\n",
    "        res = solver_obj.solve(m)\n",
    "        res2 = solver_obj.solve(m2)\n",
    "        add_data_row(\n",
    "            m,\n",
    "            df=df, \n",
    "            el_price=el_price, \n",
    "            ng_price=ng_price, \n",
    "            h2_price=h2_price,\n",
    "            off=pyo.value(-m.fixed_costs)\n",
    "        )\n",
    "    df.to_csv(result_file)"
   ]
  },
  {
   "cell_type": "code",
   "execution_count": null,
   "id": "30752e9e-fec5-4e99-b9ee-2cbaf45f0e92",
   "metadata": {},
   "outputs": [],
   "source": []
  }
 ],
 "metadata": {
  "kernelspec": {
   "display_name": "Python 3 (ipykernel)",
   "language": "python",
   "name": "python3"
  },
  "language_info": {
   "codemirror_mode": {
    "name": "ipython",
    "version": 3
   },
   "file_extension": ".py",
   "mimetype": "text/x-python",
   "name": "python",
   "nbconvert_exporter": "python",
   "pygments_lexer": "ipython3",
   "version": "3.10.4"
  }
 },
 "nbformat": 4,
 "nbformat_minor": 5
}
