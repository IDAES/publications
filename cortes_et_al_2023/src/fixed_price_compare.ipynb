{
 "cells": [
  {
   "cell_type": "markdown",
   "id": "9a9d508c-0167-48fa-aaa8-86827549b5b1",
   "metadata": {},
   "source": [
    "# Fixed Price Compare\n",
    "\n",
    "This notebook generates barcharts comparing the electricity cost for systems in power only mode at fixed natural gas and electricity price points."
   ]
  },
  {
   "cell_type": "markdown",
   "id": "9694365e-80b6-48ae-98cb-e02633487508",
   "metadata": {},
   "source": [
    "## Generate Surrogates and Boilerplate"
   ]
  },
  {
   "cell_type": "code",
   "execution_count": 1,
   "id": "3a8cce5f-2eb5-40f7-b435-05c88662037f",
   "metadata": {},
   "outputs": [],
   "source": [
    "from util.surrogate import SurrogateProcessModels\n",
    "from util.data import get_model_data\n",
    "import pyomo.environ as pyo\n",
    "import matplotlib.pyplot as plt\n",
    "import numpy as np\n",
    "import os"
   ]
  },
  {
   "cell_type": "code",
   "execution_count": 2,
   "id": "d92a6356-3ea9-43a0-82db-838886c7cef4",
   "metadata": {},
   "outputs": [],
   "source": [
    "surrogate = SurrogateProcessModels()\n",
    "surrogate.generate_surrogate_models()"
   ]
  },
  {
   "cell_type": "code",
   "execution_count": 3,
   "id": "bed28134-ef1b-49cb-a282-485513a14c5b",
   "metadata": {},
   "outputs": [],
   "source": [
    "solver_obj = pyo.SolverFactory(\"ipopt\")"
   ]
  },
  {
   "cell_type": "code",
   "execution_count": 4,
   "id": "6bf47f4b-f2af-4e67-b7a9-b197b4c67521",
   "metadata": {},
   "outputs": [],
   "source": [
    "plot_dir = \"../fixed_price_plots\"\n",
    "if not os.path.exists(plot_dir):\n",
    "    os.mkdir(plot_dir)"
   ]
  },
  {
   "cell_type": "markdown",
   "id": "24859e79-7a53-42b0-a39a-631ddd1f0d50",
   "metadata": {},
   "source": [
    "## Power Only Mode Bar Chart"
   ]
  },
  {
   "cell_type": "code",
   "execution_count": 5,
   "id": "782a3727-cadc-4c6f-b8dd-85baaee79690",
   "metadata": {},
   "outputs": [
    {
     "name": "stdout",
     "output_type": "stream",
     "text": [
      "Setting bound of net_power to (160.0, 650.0).\n",
      "Setting bound of net_power to (200.0, 650.0).\n",
      "Setting bound of net_power to (160.0, 650.0).\n",
      "Setting bound of net_power to (200.0, 650.0).\n",
      "Setting bound of net_power to (219.07692307692307, 712.0).\n"
     ]
    }
   ],
   "source": [
    "model0 = surrogate.single_point_model(\"model0\", \"power_only\", el_price=71.70, ng_price=4.42)\n",
    "model1 = surrogate.single_point_model(\"model1\", \"power_only\", el_price=71.70, ng_price=4.42)\n",
    "model3 = surrogate.single_point_model(\"model3\", \"power_only\", el_price=71.70, ng_price=4.42)\n",
    "model4 = surrogate.single_point_model(\"model4\", \"power_only\", el_price=71.70, ng_price=4.42)\n",
    "model5 = surrogate.single_point_model(\"model5\", \"power_only\", el_price=71.70, ng_price=4.42)\n",
    "\n",
    "all_models = [model0, model1, model3, model4, model5]\n",
    "\n",
    "for m in all_models:\n",
    "    m.net_power.fix(m.net_power.ub)"
   ]
  },
  {
   "cell_type": "code",
   "execution_count": 6,
   "id": "416ff978-4ca0-44df-8ae7-db43d72696c4",
   "metadata": {},
   "outputs": [],
   "source": [
    "cases = [\"NGCC\", \"SOFC\", \"NGCC+SOEC\", \"rSOC\", \"SOFC+SOEC\"]\n",
    "capital = {}\n",
    "fixed_om = {}\n",
    "fuel = {}\n",
    "other = {}\n",
    "ng_prices = [4.42, 8]\n",
    "\n",
    "for ng_price in ng_prices:\n",
    "    for m in all_models:\n",
    "        m.ng_price.fix(ng_price)\n",
    "        res = solver_obj.solve(m)\n",
    "\n",
    "    model_data = get_model_data()\n",
    "        \n",
    "    capital[ng_price] = np.array([\n",
    "        model_data[\"model0\"][\"fixed_cap_hourly\"]/pyo.value(model0.net_power), \n",
    "        model_data[\"model1\"][\"fixed_cap_hourly\"]/pyo.value(model1.net_power), \n",
    "        model_data[\"model3\"][\"fixed_cap_hourly\"]/pyo.value(model3.net_power), \n",
    "        model_data[\"model4\"][\"fixed_cap_hourly\"]/pyo.value(model4.net_power), \n",
    "        model_data[\"model5\"][\"fixed_cap_hourly\"]/pyo.value(model5.net_power), \n",
    "    ])\n",
    "    fixed_om[ng_price] = np.array([\n",
    "        model_data[\"model0\"][\"fixed_om_hourly\"]/pyo.value(model0.net_power), \n",
    "        model_data[\"model1\"][\"fixed_om_hourly\"]/pyo.value(model1.net_power), \n",
    "        model_data[\"model3\"][\"fixed_om_hourly\"]/pyo.value(model3.net_power), \n",
    "        model_data[\"model4\"][\"fixed_om_hourly\"]/pyo.value(model4.net_power), \n",
    "        model_data[\"model5\"][\"fixed_om_hourly\"]/pyo.value(model5.net_power), \n",
    "    ])\n",
    "    fuel[ng_price] = np.array([\n",
    "        pyo.value((model0.ng_price/4.42)*model0.fuel_cost)/pyo.value(model0.net_power),\n",
    "        pyo.value((model1.ng_price/4.42)*model1.fuel_cost)/pyo.value(model1.net_power),\n",
    "        pyo.value((model3.ng_price/4.42)*model3.fuel_cost)/pyo.value(model3.net_power),\n",
    "        pyo.value((model4.ng_price/4.42)*model4.fuel_cost)/pyo.value(model4.net_power),\n",
    "        pyo.value((model5.ng_price/4.42)*model5.fuel_cost)/pyo.value(model5.net_power),\n",
    "    ])\n",
    "    other[ng_price] = np.array([\n",
    "        pyo.value(model0.other_cost)/pyo.value(model0.net_power),\n",
    "        pyo.value(model1.other_cost)/pyo.value(model1.net_power),\n",
    "        pyo.value(model3.other_cost)/pyo.value(model3.net_power),\n",
    "        pyo.value(model4.other_cost)/pyo.value(model4.net_power),\n",
    "        pyo.value(model5.other_cost)/pyo.value(model5.net_power),\n",
    "    ])"
   ]
  },
  {
   "cell_type": "code",
   "execution_count": 7,
   "id": "7a460ab6-7268-4199-a176-37e2836d5485",
   "metadata": {},
   "outputs": [
    {
     "data": {
      "image/png": "[encoded data removed]",
      "text/plain": [
       "<Figure size 432x288 with 1 Axes>"
      ]
     },
     "metadata": {
      "needs_background": "light"
     },
     "output_type": "display_data"
    }
   ],
   "source": [
    "w = 0.4\n",
    "plot_file = os.path.join(plot_dir, \"bar_power_only.png\")\n",
    "fig, ax = plt.subplots()\n",
    "plt.grid(axis='y', zorder=0)\n",
    "idx = np.arange(len(cases))\n",
    "\n",
    "for i, ng_price in enumerate(ng_prices):\n",
    "    if i == 0:\n",
    "        l = \"A\"\n",
    "    else:\n",
    "        l = \"B\"\n",
    "    b1 = plt.bar(\n",
    "        idx - 0.2 + i*w, \n",
    "        capital[ng_price], \n",
    "        width=w, \n",
    "        label=\"Capital\", \n",
    "        zorder=3, \n",
    "        color='blue'\n",
    "    )\n",
    "    b2 = plt.bar(\n",
    "        idx - 0.2 + i*w, \n",
    "        fixed_om[ng_price], \n",
    "        width=w, \n",
    "        label=\"Fixed O&M\", \n",
    "        bottom=capital[ng_price], \n",
    "        zorder=3, \n",
    "        color='c'\n",
    "    )\n",
    "    plt.bar(\n",
    "        idx - 0.2 + i*w, \n",
    "        fuel[ng_price], \n",
    "        width=w, \n",
    "        label=\"Fuel\", \n",
    "        bottom=capital[ng_price]+fixed_om[ng_price], \n",
    "        zorder=3, \n",
    "        color='darkorange'\n",
    "    )\n",
    "    b = plt.bar(\n",
    "        idx - 0.2 + i*w, \n",
    "        other[ng_price], \n",
    "        width=w, \n",
    "        label=\"Variable O&M\", \n",
    "        bottom=capital[ng_price]+fixed_om[ng_price]+fuel[ng_price], \n",
    "        zorder=3, \n",
    "        color='m'\n",
    "    )\n",
    "    plt.bar_label(b, labels=[l]*len(cases))\n",
    "plt.xlabel(\"Natural Gas Price (\\$/million BTU): A) 4.42, B) 8.0\")\n",
    "plt.text(-0.5, 107.5, \"Capacity Factors:\\n  100% Power, 0% Hydrogen\")\n",
    "handles, labels = plt.gca().get_legend_handles_labels()\n",
    "by_label = dict(zip(labels, handles))\n",
    "plt.legend(by_label.values(), by_label.keys(), loc=1)\n",
    "plt.xticks(idx, labels=cases)\n",
    "plt.ylim(0, 120)\n",
    "plt.ylabel(\"Cost of Electricity ($/MWhr)\")\n",
    "plt.savefig(plot_file, dpi=160, bbox_inches=\"tight\")\n",
    "plt.show()"
   ]
  },
  {
   "cell_type": "markdown",
   "id": "035dea9b-f1c4-4858-a6a2-9e2ec7bd51e4",
   "metadata": {},
   "source": [
    "## Hydrogren Price Bar Chart\n",
    "\n",
    "This chart compares the optimal cost of hydrogen from system that can produce hydrogen."
   ]
  },
  {
   "cell_type": "code",
   "execution_count": 8,
   "id": "2874017c-413e-44ed-8eaf-f166b4eae044",
   "metadata": {},
   "outputs": [
    {
     "name": "stdout",
     "output_type": "stream",
     "text": [
      "Setting bound of net_power to (-78.4122027155605, 508.793449280259).\n",
      "Setting bound of h_prod to (1.00004960563519, 4.7502356267672).\n",
      "Setting bound of h_prod to (1.75, 5.0).\n",
      "Setting bound of net_power to (-378.391, 546.7495).\n",
      "Setting bound of h_prod to (1.0, 5.0).\n",
      "Setting bound of h_prod to (1.0, 5.0).\n"
     ]
    }
   ],
   "source": [
    "model3 = surrogate.single_point_model(\"model3\", \"hydrogen\", el_price=71.70, ng_price=4.42)\n",
    "model4 = surrogate.single_point_model(\"model4\", \"hydrogen_only\", el_price=71.70, ng_price=4.42)\n",
    "model5 = surrogate.single_point_model(\"model5\", \"hydrogen\", el_price=71.70, ng_price=4.42)\n",
    "model6 = surrogate.single_point_model(\"model6\", \"hydrogen_only\", el_price=71.70, ng_price=4.42)\n",
    "\n",
    "all_models = [model3, model4, model5, model6]\n",
    "\n",
    "for m in all_models:\n",
    "    m.h_prod.fix(m.h_prod.ub)"
   ]
  },
  {
   "cell_type": "code",
   "execution_count": 9,
   "id": "db3fdfc4-f84f-4a59-b531-50c56fcf4998",
   "metadata": {},
   "outputs": [],
   "source": [
    "cases = [\"NGCC+SOEC\", \"rSOC\", \"SOFC+SOEC\", \"SOEC\"]\n",
    "\n",
    "capital = {}\n",
    "fixed_om = {}\n",
    "fuel = {}\n",
    "elec = {}\n",
    "other = {}\n",
    "\n",
    "ng_prices = [4.42, 8]\n",
    "el_prices = [30, 71.70, 100]\n",
    "\n",
    "for ng_price in ng_prices:\n",
    "    for el_price in el_prices:\n",
    "        for m in all_models:\n",
    "            m.ng_price.fix(ng_price)\n",
    "            m.el_price.fix(el_price)\n",
    "            res = solver_obj.solve(m)\n",
    "            \n",
    "        capital[(ng_price, el_price)] = np.array([\n",
    "            model_data[\"model3\"][\"fixed_cap_hourly\"]/pyo.value(model3.h_prod*3600), \n",
    "            model_data[\"model4\"][\"fixed_cap_hourly\"]/pyo.value(model4.h_prod*3600), \n",
    "            model_data[\"model5\"][\"fixed_cap_hourly\"]/pyo.value(model5.h_prod*3600), \n",
    "            model_data[\"model6\"][\"fixed_cap_hourly\"]/pyo.value(model6.h_prod*3600), \n",
    "        ])\n",
    "        fixed_om[(ng_price, el_price)] = np.array([\n",
    "            model_data[\"model3\"][\"fixed_om_hourly\"]/pyo.value(model3.h_prod*3600), \n",
    "            model_data[\"model4\"][\"fixed_om_hourly\"]/pyo.value(model4.h_prod*3600), \n",
    "            model_data[\"model5\"][\"fixed_om_hourly\"]/pyo.value(model5.h_prod*3600), \n",
    "            model_data[\"model6\"][\"fixed_om_hourly\"]/pyo.value(model6.h_prod*3600), \n",
    "        ])\n",
    "        fuel[(ng_price, el_price)] = np.array([\n",
    "            pyo.value((model3.ng_price/4.42)*model3.fuel_cost)/pyo.value(model3.h_prod*3600),\n",
    "            pyo.value((model4.ng_price/4.42)*model4.fuel_cost)/pyo.value(model4.h_prod*3600),\n",
    "            pyo.value((model5.ng_price/4.42)*model5.fuel_cost)/pyo.value(model5.h_prod*3600),\n",
    "            pyo.value((model6.ng_price/4.42)*model6.fuel_cost)/pyo.value(model6.h_prod*3600),\n",
    "        ])\n",
    "        elec[(ng_price, el_price)] = np.array([\n",
    "            pyo.value(-model3.el_price*model3.net_power)/pyo.value(model3.h_prod*3600),\n",
    "            pyo.value((model4.el_price/30)*model4.electricity_cost)/pyo.value(model4.h_prod*3600),\n",
    "            pyo.value(-model5.el_price*model5.net_power)/pyo.value(model5.h_prod*3600),\n",
    "            pyo.value((model6.el_price/30)*model6.electricity_cost)/pyo.value(model6.h_prod*3600),\n",
    "        ])\n",
    "        other[(ng_price, el_price)] = np.array([\n",
    "            pyo.value(model3.other_cost)/pyo.value(model3.h_prod*3600),\n",
    "            pyo.value(model4.other_cost)/pyo.value(model4.h_prod*3600),\n",
    "            pyo.value(model5.other_cost)/pyo.value(model5.h_prod*3600),\n",
    "            pyo.value(model6.other_cost)/pyo.value(model6.h_prod*3600),\n",
    "        ])"
   ]
  },
  {
   "cell_type": "code",
   "execution_count": 10,
   "id": "b53ed8c5-9858-4fb6-ae96-2b3c3786c86e",
   "metadata": {},
   "outputs": [
    {
     "data": {
      "image/png": "[encoded data removed]",
      "text/plain": [
       "<Figure size 504x288 with 1 Axes>"
      ]
     },
     "metadata": {
      "needs_background": "light"
     },
     "output_type": "display_data"
    }
   ],
   "source": [
    "plot_file = os.path.join(plot_dir, \"bar_hydrogen.png\")\n",
    "w = 0.15\n",
    "fig, ax = plt.subplots()\n",
    "fig.set_figwidth(7)\n",
    "plt.grid(axis='y', zorder=0)\n",
    "idx = np.arange(len(cases))\n",
    "ng_price = 4.42\n",
    "el_price = 30\n",
    "i = 0\n",
    "for ng_price in ng_prices:\n",
    "    for el_price in el_prices:\n",
    "        plt.bar(\n",
    "            idx - 3*w + i*w, \n",
    "            capital[(ng_price, el_price)], \n",
    "            width=w, \n",
    "            label=\"Capital\", \n",
    "            zorder=3,\n",
    "            color='b',\n",
    "        )\n",
    "        plt.bar(\n",
    "            idx - 3*w + i*w, \n",
    "            fixed_om[(ng_price, el_price)], \n",
    "            width=w,label=\"Fixed O&M\", \n",
    "            bottom=capital[(ng_price, el_price)], \n",
    "            zorder=3,\n",
    "            color='c',\n",
    "        )\n",
    "        plt.bar(\n",
    "            idx - 3*w + i*w, \n",
    "            fuel[(ng_price, el_price)], \n",
    "            width=w, \n",
    "            label=\"Fuel\", \n",
    "            bottom=capital[(ng_price, el_price)]+fixed_om[(ng_price, el_price)], \n",
    "            zorder=3,\n",
    "            color='darkorange',\n",
    "        )\n",
    "        plt.bar(\n",
    "            idx - 3*w + i*w, \n",
    "            elec[(ng_price, el_price)], \n",
    "            width=w, \n",
    "            label=\"Electricity\", \n",
    "            bottom=capital[(ng_price, el_price)]+fixed_om[(ng_price, el_price)]+fuel[(ng_price, el_price)], \n",
    "            zorder=3,\n",
    "            color='green'\n",
    "        )\n",
    "        b = plt.bar(\n",
    "            idx - 3*w + i*w, \n",
    "            other[(ng_price, el_price)], \n",
    "            width=w, \n",
    "            label=\"Variable O&M\", \n",
    "            bottom=capital[(ng_price, el_price)]+fixed_om[(ng_price, el_price)]+fuel[(ng_price, el_price)]+elec[(ng_price, el_price)], \n",
    "            zorder=3,\n",
    "            color='m',\n",
    "        )\n",
    "        plt.bar_label(b, [{0:\"A1\", 1:\"A2\", 2:\"A3\", 3:\"B1\", 4:\"B2\", 5:\"B3\"}[i]]*len(cases))\n",
    "        i += 1\n",
    "plt.xlabel(\"Natural Gas Price (\\$/million BTU): A) 4.42, B) 8.0\\nElectricity Price (\\$/MWhr): 1) 30.0, 2) 71.7, 3) 100.0\")\n",
    "plt.text(-0.65, 4.4, \"Capacity Factors: \\n  0% Power, 100% H$_2$\")\n",
    "handles, labels = plt.gca().get_legend_handles_labels()\n",
    "by_label = dict(zip(labels, handles))\n",
    "plt.legend(by_label.values(), by_label.keys(), loc=\"upper right\", bbox_to_anchor=(0.775, 1))\n",
    "plt.xticks(idx, labels=cases)\n",
    "plt.ylim(0, 5.5)\n",
    "plt.ylabel(\"Cost of Hydrogen ($/kg)\")\n",
    "plt.savefig(plot_file, dpi=160, bbox_inches=\"tight\")\n",
    "plt.show()"
   ]
  },
  {
   "cell_type": "code",
   "execution_count": null,
   "id": "e6aee7d5-8189-4ac1-bb25-15c01de4e3fb",
   "metadata": {},
   "outputs": [],
   "source": []
  }
 ],
 "metadata": {
  "kernelspec": {
   "display_name": "Python 3 (ipykernel)",
   "language": "python",
   "name": "python3"
  },
  "language_info": {
   "codemirror_mode": {
    "name": "ipython",
    "version": 3
   },
   "file_extension": ".py",
   "mimetype": "text/x-python",
   "name": "python",
   "nbconvert_exporter": "python",
   "pygments_lexer": "ipython3",
   "version": "3.10.9"
  }
 },
 "nbformat": 4,
 "nbformat_minor": 5
}
